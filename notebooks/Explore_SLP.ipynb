{
 "cells": [
  {
   "cell_type": "code",
   "execution_count": 1,
   "metadata": {
    "collapsed": false
   },
   "outputs": [],
   "source": [
    "from src.algorithms.slp import SLP\n",
    "from src.utils.geo import haversine\n",
    "import numpy as np\n",
    "%matplotlib inline\n",
    "import matplotlib as mpl\n",
    "import matplotlib.pyplot as plt\n",
    "plt.rcParams['figure.figsize'] = (12.0, 10.0)"
   ]
  },
  {
   "cell_type": "code",
   "execution_count": 3,
   "metadata": {
    "collapsed": false
   },
   "outputs": [],
   "source": [
    "# Options:\n",
    "# num_iters: Controls the number of iterations the SLP model performs\n",
    "# hold_out: User Ids [user.id_str] that end in the character[s] to not include in training... will be used for test\n",
    "# json_path: path to the json format\n",
    "options = {'num_iters':5, 'hold_out':set(['9']), 'json_path':'/local/path/to/format/twitter_format.json'}\n",
    "slp = SLP(sc, sqlCtx, options)"
   ]
  },
  {
   "cell_type": "code",
   "execution_count": 4,
   "metadata": {
    "collapsed": false
   },
   "outputs": [
    {
     "name": "stdout",
     "output_type": "stream",
     "text": [
      "Building edge list\n",
      "Finding known user locations\n",
      "Filtering out user locations that end in: 9\n",
      "Building a filtered edge list\n",
      "Begining iterations\n",
      "Completed iteration:  0  in  0.0883619785309\n",
      "Completed iteration:  1  in  0.306536912918\n",
      "Completed iteration:  2  in  0.250301122665\n",
      "Completed iteration:  3  in  0.29673409462\n",
      "Completed iteration:  4  in  0.313722133636\n"
     ]
    }
   ],
   "source": [
    "# Train Spaital Label Propagation [Note: iteration times suffer from lazy evaluation]\n",
    "slp.train('hdfs:///datasets/twitter/2015/*/*/*/*')"
   ]
  },
  {
   "cell_type": "code",
   "execution_count": 5,
   "metadata": {
    "collapsed": false
   },
   "outputs": [],
   "source": [
    "# Save so we don't have to retrain for future testing\n",
    "slp.save('/local/path/to/save/slp.test.pkl')"
   ]
  },
  {
   "cell_type": "code",
   "execution_count": 7,
   "metadata": {
    "collapsed": false
   },
   "outputs": [
    {
     "name": "stdout",
     "output_type": "stream",
     "text": [
      "Number of Found Locations:  2076\n",
      "('Median Error', 34.522314717610115)\n",
      "('Mean Error: ', 994.39026311571831)\n"
     ]
    },
    {
     "data": {
      "text/plain": [
       "{'coverage': 0.1081193687828759,\n",
       " 'data_path': 'hdfs:///datasets/twitter/2015/*/*/*/*',\n",
       " 'mean': 994.39026311571831,\n",
       " 'median': 34.522314717610115,\n",
       " 'options': {'hold_out': {'9'},\n",
       "  'json_path': '/path/to/format/twitter_format.json',\n",
       "  'num_iters': 5}}"
      ]
     },
     "execution_count": 7,
     "metadata": {},
     "output_type": "execute_result"
    }
   ],
   "source": [
    "slp.test('hdfs:///datasets/twitter/2015/*/*/*/*')"
   ]
  }
 ],
 "metadata": {
  "kernelspec": {
   "display_name": "Python 2",
   "language": "python",
   "name": "python2"
  },
  "language_info": {
   "codemirror_mode": {
    "name": "ipython",
    "version": 2
   },
   "file_extension": ".py",
   "mimetype": "text/x-python",
   "name": "python",
   "nbconvert_exporter": "python",
   "pygments_lexer": "ipython2",
   "version": "2.7.9"
  }
 },
 "nbformat": 4,
 "nbformat_minor": 0
}
