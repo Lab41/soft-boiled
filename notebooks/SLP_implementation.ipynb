{
 "cells": [
  {
   "cell_type": "markdown",
   "metadata": {},
   "source": [
    "# Explore Spatial Label Propgation\n",
    "### This notebook was used to explore the algorithm before the implementation in the soft-boiled code"
   ]
  },
  {
   "cell_type": "code",
   "execution_count": null,
   "metadata": {
    "collapsed": true
   },
   "outputs": [],
   "source": [
    "# Add to Spark context\n",
    "sc.addPyFile('/local/path/to/soft-boiled.zip')"
   ]
  },
  {
   "cell_type": "code",
   "execution_count": 1,
   "metadata": {
    "collapsed": false
   },
   "outputs": [
    {
     "ename": "ImportError",
     "evalue": "No module named src.algorithms.algorithm",
     "output_type": "error",
     "traceback": [
      "\u001b[0;31m---------------------------------------------------------------------------\u001b[0m",
      "\u001b[0;31mImportError\u001b[0m                               Traceback (most recent call last)",
      "\u001b[0;32m<ipython-input-1-d05712aa5d61>\u001b[0m in \u001b[0;36m<module>\u001b[0;34m()\u001b[0m\n\u001b[1;32m      1\u001b[0m \u001b[0;32mimport\u001b[0m \u001b[0mcollections\u001b[0m\u001b[0;34m\u001b[0m\u001b[0m\n\u001b[1;32m      2\u001b[0m \u001b[0;31m# local includes\u001b[0m\u001b[0;34m\u001b[0m\u001b[0;34m\u001b[0m\u001b[0m\n\u001b[0;32m----> 3\u001b[0;31m \u001b[0;32mfrom\u001b[0m \u001b[0msrc\u001b[0m\u001b[0;34m.\u001b[0m\u001b[0malgorithms\u001b[0m\u001b[0;34m.\u001b[0m\u001b[0malgorithm\u001b[0m \u001b[0;32mimport\u001b[0m \u001b[0mAlgorithm\u001b[0m\u001b[0;34m\u001b[0m\u001b[0m\n\u001b[0m\u001b[1;32m      4\u001b[0m \u001b[0;31m#from src.utils.geo import haversine, median_point\u001b[0m\u001b[0;34m\u001b[0m\u001b[0;34m\u001b[0m\u001b[0m\n\u001b[1;32m      5\u001b[0m \u001b[0;32mfrom\u001b[0m \u001b[0msrc\u001b[0m\u001b[0;34m.\u001b[0m\u001b[0mutils\u001b[0m\u001b[0;34m.\u001b[0m\u001b[0mgeo\u001b[0m \u001b[0;32mimport\u001b[0m \u001b[0mmedian_point\u001b[0m\u001b[0;34m\u001b[0m\u001b[0m\n",
      "\u001b[0;31mImportError\u001b[0m: No module named src.algorithms.algorithm"
     ]
    }
   ],
   "source": [
    "import collections\n",
    "# local includes\n",
    "from src.algorithms.algorithm import Algorithm\n",
    "#from src.utils.geo import haversine, median_point\n",
    "from src.utils.geo import median_point\n",
    "from haversine import haversine\n",
    "from src.utils.schema import get_twitter_schema\n",
    "import numpy as np\n",
    "import time"
   ]
  },
  {
   "cell_type": "code",
   "execution_count": 4,
   "metadata": {
    "collapsed": true
   },
   "outputs": [],
   "source": [
    "def get_at_mentions(inputRow):\n",
    "    output = []\n",
    "    if inputRow.user_mentions and len(inputRow.user_mentions) > 0:\n",
    "        for user_mention in inputRow.user_mentions:\n",
    "            src = inputRow.id_str\n",
    "            dst = user_mention.id_str\n",
    "            if src and dst:\n",
    "                if src < dst:\n",
    "                    canoncial = src + '_' + dst\n",
    "                else:\n",
    "                    canoncial = dst + '_' + src\n",
    "                output.append((canoncial, (src, dst)))\n",
    "    return output"
   ]
  },
  {
   "cell_type": "code",
   "execution_count": 5,
   "metadata": {
    "collapsed": true
   },
   "outputs": [],
   "source": [
    "def median_point2(points):\n",
    "    \"\"\" Return the median point and the dispersion\"\"\"\n",
    "    points_list = []\n",
    "    for (point, isTrue) in points:\n",
    "        if isTrue:\n",
    "            return (point, isTrue)\n",
    "        else:\n",
    "            points_list.append(point)\n",
    "    points = points_list\n",
    "    if len(points) < 3:\n",
    "        return None\n",
    "    points = list(points)\n",
    "    min_distance = None\n",
    "    current_errors = None\n",
    "    min_index = None\n",
    "    for i in range(len(points)):\n",
    "        distance_sum = 0\n",
    "        errors = []\n",
    "        for j in range(len(points)):\n",
    "            error = haversine(points[j][1], points[j][0], points[i][1], points[i][0])\n",
    "            errors.append(error)\n",
    "        distance_sum = sum(errors)\n",
    "        if min_distance is None or distance_sum < min_distance:\n",
    "            min_distance = distance_sum\n",
    "            current_errors = errors\n",
    "            min_index = i\n",
    "    if np.median(errors) > 100: # Enforce dispersion constraint\n",
    "        return None\n",
    "    return (points[min_index], False)"
   ]
  },
  {
   "cell_type": "code",
   "execution_count": 6,
   "metadata": {
    "collapsed": false
   },
   "outputs": [],
   "source": [
    "### Load some test data\n",
    "may_tweets = sqlCtx.jsonFile('hdfs:///datasets/twitter/2015/*/*/*/*', get_twitter_schema('/local/path/to/format/twitter_format.json'))\n",
    "may_tweets.registerTempTable('tweets')"
   ]
  },
  {
   "cell_type": "markdown",
   "metadata": {},
   "source": [
    "## Build @Mention graph\n",
    "### Graph is stored as an edge list"
   ]
  },
  {
   "cell_type": "code",
   "execution_count": 7,
   "metadata": {
    "collapsed": false
   },
   "outputs": [
    {
     "data": {
      "text/plain": [
       "CoalescedRDD[15] at coalesce at NativeMethodAccessorImpl.java:-2"
      ]
     },
     "execution_count": 7,
     "metadata": {},
     "output_type": "execute_result"
    }
   ],
   "source": [
    "at_mention_graph = sqlCtx.sql('select user.id_str, entities.user_mentions from tweets where entities.user_mentions is not null')\\\n",
    "            .flatMap(get_at_mentions).groupByKey()\\\n",
    "            .filter(lambda (a,b): len(set(b)) > 1)\\\n",
    "            .flatMap(lambda (a,b): list(b)).coalesce(300)\n",
    "at_mention_graph.cache()"
   ]
  },
  {
   "cell_type": "code",
   "execution_count": 6,
   "metadata": {
    "collapsed": false
   },
   "outputs": [
    {
     "data": {
      "text/plain": [
       "4857805"
      ]
     },
     "execution_count": 6,
     "metadata": {},
     "output_type": "execute_result"
    }
   ],
   "source": [
    "at_mention_graph.flatMap(lambda (a,b): [a, b]).distinct().count()"
   ]
  },
  {
   "cell_type": "code",
   "execution_count": 8,
   "metadata": {
    "collapsed": false
   },
   "outputs": [
    {
     "data": {
      "text/plain": [
       "CoalescedRDD[31] at coalesce at NativeMethodAccessorImpl.java:-2"
      ]
     },
     "execution_count": 8,
     "metadata": {},
     "output_type": "execute_result"
    }
   ],
   "source": [
    "user_locations_graph = sqlCtx.sql('select user.id_str, geo.coordinates from tweets where geo.coordinates is not null')\\\n",
    "            .map(lambda a: (a.id_str, a.coordinates))\\\n",
    "            .groupByKey().filter(lambda (a,b):len(b) > 3).mapValues(median_point).mapValues(lambda (a,b): a).coalesce(300)\n",
    "user_locations_graph.cache()"
   ]
  },
  {
   "cell_type": "code",
   "execution_count": 9,
   "metadata": {
    "collapsed": false
   },
   "outputs": [
    {
     "name": "stdout",
     "output_type": "stream",
     "text": [
      "Total:  208888\n",
      "Training Count: 190173\n",
      "Test Count: 18715\n"
     ]
    }
   ],
   "source": [
    "print 'Total: ', user_locations_graph.count()\n",
    "updatedLocations = user_locations_graph.filter(lambda (a,b): int(a[-1]) <=8)\n",
    "testLocations = user_locations_graph.filter(lambda (a,b): int(a[-1]) > 8)\n",
    "print 'Training Count:', updatedLocations.count()\n",
    "print 'Test Count:', testLocations.count()\n",
    "original_locations = updatedLocations"
   ]
  },
  {
   "cell_type": "code",
   "execution_count": 10,
   "metadata": {
    "collapsed": false
   },
   "outputs": [
    {
     "data": {
      "text/plain": [
       "PythonRDD[42] at RDD at PythonRDD.scala:42"
      ]
     },
     "execution_count": 10,
     "metadata": {},
     "output_type": "execute_result"
    }
   ],
   "source": [
    "# Filter edge list for known locations\n",
    "filtered_edge_list = at_mention_graph.keyBy(lambda (a, b): b).leftOuterJoin(updatedLocations)\\\n",
    ".map(lambda (a, b): b).filter(lambda (a,b): b is None).map(lambda (a,b): a)\n",
    "filtered_edge_list.cache()"
   ]
  },
  {
   "cell_type": "code",
   "execution_count": 39,
   "metadata": {
    "collapsed": false
   },
   "outputs": [
    {
     "data": {
      "text/plain": [
       "4854029"
      ]
     },
     "execution_count": 39,
     "metadata": {},
     "output_type": "execute_result"
    },
    {
     "name": "stdout",
     "output_type": "stream",
     "text": [
      "\n"
     ]
    }
   ],
   "source": [
    "# Get Unique users in filtered edge list\n",
    "filtered_edge_list.flatMap(lambda (a,b): [a, b]).distinct().count()"
   ]
  },
  {
   "cell_type": "code",
   "execution_count": 24,
   "metadata": {
    "collapsed": false
   },
   "outputs": [
    {
     "name": "stdout",
     "output_type": "stream",
     "text": [
      "# Partitions at start: 300\n"
     ]
    }
   ],
   "source": [
    "updatedLocations = original_locations\n",
    "num_partitions = updatedLocations.getNumPartitions()\n",
    "print '# Partitions at start:', num_partitions"
   ]
  },
  {
   "cell_type": "code",
   "execution_count": 18,
   "metadata": {
    "collapsed": true
   },
   "outputs": [],
   "source": [
    "local_edges = filtered_edge_list.collect()\n",
    "known_locations = updatedLocations.collectAsMap()\n",
    "test_locations = testLocations.collectAsMap()\n",
    "local_edge_list = at_mention_graph.collect()"
   ]
  },
  {
   "cell_type": "code",
   "execution_count": 12,
   "metadata": {
    "collapsed": true
   },
   "outputs": [],
   "source": [
    "def median_point(points):\n",
    "    \"\"\" Return the median point and the dispersion\"\"\"\n",
    "    if len(points) < 3:\n",
    "        return None\n",
    "    points = list(points)[:20]\n",
    "    min_distance = None\n",
    "    current_errors = None\n",
    "    min_index = None\n",
    "    for i in range(len(points)):\n",
    "        distance_sum = 0\n",
    "        errors = []\n",
    "        for j in range(len(points)):\n",
    "            error = haversine(points[j][1], points[j][0], points[i][1], points[i][0])\n",
    "            errors.append(error)\n",
    "        distance_sum = sum(errors)\n",
    "        if min_distance is None or distance_sum < min_distance:\n",
    "            min_distance = distance_sum\n",
    "            current_errors = errors\n",
    "            min_index = i\n",
    "    return (points[min_index], np.median(current_errors))"
   ]
  },
  {
   "cell_type": "markdown",
   "metadata": {},
   "source": [
    "# This is the core SLP iteration"
   ]
  },
  {
   "cell_type": "code",
   "execution_count": 25,
   "metadata": {
    "collapsed": false,
    "scrolled": true
   },
   "outputs": [
    {
     "name": "stdout",
     "output_type": "stream",
     "text": [
      "0 260277 781 12.7294206619 31.0848679543\n",
      "1 351325 1341 17.8613262177 64.5007450581\n",
      "2 439986 1708 22.2233352661 102.264163971\n",
      "3 517457 1890 27.7568807602 141.208543062\n",
      "4 581527 2036 31.3105392456 184.111522913\n",
      "5 634709 2108 35.499162674 227.784286976\n",
      "6 681382 2183 38.8336486816 272.32160902\n",
      "7 718839 2218 40.9449272156 318.781810999\n",
      "8 748300 2230 40.0671100616 365.979155064\n",
      "9 770405 2257 43.4148406982 413.285179853\n"
     ]
    }
   ],
   "source": [
    "# Initial iteration\n",
    "start_time = time.time()\n",
    "for i in range(10):\n",
    "    adjListWithLocations = filtered_edge_list.join(updatedLocations).map(lambda (a,b): (b[0], b[1])).groupByKey()\n",
    "    new_locations = adjListWithLocations.map(lambda (a,b): (a, median_point(b))).filter(lambda (a,b): b is not None)\\\n",
    "        .filter(lambda (a,b): b[1] < 50).mapValues(lambda (a,b): a)\n",
    "    updatedLocations = new_locations.union(original_locations).coalesce(num_partitions)\n",
    "    \n",
    "    found_locations_local =  testLocations.join(updatedLocations).collect()\n",
    "    #print 'Number of Found Locations: ', len(found_locations_local)\n",
    "    errors = []\n",
    "    for (idstr, ll_tuple) in found_locations_local:\n",
    "        (ll_1,ll_2) = ll_tuple\n",
    "        errors.append(haversine(ll_1[1], ll_1[0], ll_2[1], ll_2[0]))\n",
    "    #print np.median(errors), np.mean(errors)\n",
    "\n",
    "    print i,updatedLocations.count(), len(found_locations_local), np.median(errors), time.time() - start_time"
   ]
  },
  {
   "cell_type": "markdown",
   "metadata": {},
   "source": [
    "## Score Results"
   ]
  },
  {
   "cell_type": "code",
   "execution_count": 19,
   "metadata": {
    "collapsed": false
   },
   "outputs": [
    {
     "name": "stdout",
     "output_type": "stream",
     "text": [
      "Number of Found Locations:  2044\n",
      "33.1009235382 966.627452076\n"
     ]
    }
   ],
   "source": [
    "# How many test locations did we find\n",
    "found_locations = testLocations.join(updatedLocations)\n",
    "found_locations_local = found_locations.collect()\n",
    "print 'Number of Found Locations: ', len(found_locations_local)\n",
    "errors = []\n",
    "for (idstr, ll_tuple) in found_locations_local:\n",
    "    (ll_1,ll_2) = ll_tuple\n",
    "    #print ll_1, ll_2\n",
    "    errors.append(haversine(ll_1[1], ll_1[0], ll_2[1], ll_2[0]))\n",
    "print np.median(errors), np.mean(errors)"
   ]
  },
  {
   "cell_type": "code",
   "execution_count": 28,
   "metadata": {
    "collapsed": false
   },
   "outputs": [
    {
     "name": "stdout",
     "output_type": "stream",
     "text": [
      " 43.4148406982 1031.62009013\n"
     ]
    }
   ],
   "source": [
    "errors_sorted = sorted(errors)\n",
    "print np.median(errors_sorted), np.mean(errors_sorted)"
   ]
  },
  {
   "cell_type": "code",
   "execution_count": 46,
   "metadata": {
    "collapsed": false
   },
   "outputs": [
    {
     "data": {
      "image/png": "[encoded data removed]",
      "text/plain": [
       "<matplotlib.figure.Figure at 0x7f1998f2e3d0>"
      ]
     },
     "metadata": {},
     "output_type": "display_data"
    }
   ],
   "source": [
    "num_errors = len(errors_sorted)\n",
    "from math import floor\n",
    "divisors = []\n",
    "for i in range(num_errors):\n",
    "    divisors.append(i/float(num_errors))\n",
    "plt.plot(np.log10(errors_sorted), divisors)\n",
    "plt.grid(True)"
   ]
  },
  {
   "cell_type": "code",
   "execution_count": null,
   "metadata": {
    "collapsed": false
   },
   "outputs": [],
   "source": [
    "print errors_sorted[-1]"
   ]
  },
  {
   "cell_type": "code",
   "execution_count": 26,
   "metadata": {
    "collapsed": false
   },
   "outputs": [
    {
     "data": {
      "text/plain": [
       "{'boxes': [<matplotlib.lines.Line2D at 0x7f19a006b1d0>],\n",
       " 'caps': [<matplotlib.lines.Line2D at 0x7f19994ad190>,\n",
       "  <matplotlib.lines.Line2D at 0x7f19994ad7d0>],\n",
       " 'fliers': [<matplotlib.lines.Line2D at 0x7f19994b7490>],\n",
       " 'means': [],\n",
       " 'medians': [<matplotlib.lines.Line2D at 0x7f19994ade10>],\n",
       " 'whiskers': [<matplotlib.lines.Line2D at 0x7f19a006b450>,\n",
       "  <matplotlib.lines.Line2D at 0x7f19a006bb10>]}"
      ]
     },
     "execution_count": 26,
     "metadata": {},
     "output_type": "execute_result"
    },
    {
     "data": {
      "image/png": "[encoded data removed]",
      "text/plain": [
       "<matplotlib.figure.Figure at 0x7f19a14ddad0>"
      ]
     },
     "metadata": {},
     "output_type": "display_data"
    }
   ],
   "source": [
    "import matplotlib\n",
    "import numpy as np\n",
    "import matplotlib.pyplot as plt\n",
    "%matplotlib inline\n",
    "plt.boxplot(errors)"
   ]
  },
  {
   "cell_type": "markdown",
   "metadata": {
    "collapsed": true
   },
   "source": [
    "# Local calculation"
   ]
  },
  {
   "cell_type": "code",
   "execution_count": 33,
   "metadata": {
    "collapsed": false
   },
   "outputs": [],
   "source": [
    "import collections\n",
    "import time\n",
    "from multiprocessing import Pool\n",
    "\n",
    "def get_median_with_threshold(input_tuple):\n",
    "    (usr_id, locations) = input_tuple\n",
    "    (median_location, dispersion) = median_point(locations)\n",
    "    if dispersion < 100:\n",
    "        return (usr_id, median_location)\n",
    "    else:\n",
    "        return (usr_id, None)\n",
    "\n",
    "def perform_slp(at_mention_graph, original_locations, test_locations, gamma):\n",
    "    #known_locations = original_locations.copy()\n",
    "    \n",
    "    known_locations = {}\n",
    "    start_time = time.time()\n",
    "    print 'Building Filtered Edgelist', start_time\n",
    "    # Build filtered edgelist\n",
    "    filtered_edge_list = []\n",
    "    for (src, dst) in at_mention_graph:\n",
    "        if dst not in original_locations:\n",
    "            filtered_edge_list.append((src, dst))\n",
    "    NUM_ITERS = 4\n",
    "    for i in range(NUM_ITERS):\n",
    "        print 'Sending Known Locations', time.time() - start_time\n",
    "        # Send known locations to destinations\n",
    "        dst_locations = collections.defaultdict(list)\n",
    "        for (src, dst) in filtered_edge_list:\n",
    "            if src in known_locations:\n",
    "                # If the src has a known location send it to the destination\n",
    "                dst_locations[dst].append(known_locations[src])\n",
    "            elif src in original_locations:\n",
    "                dst_locations[dst].append(original_locations[src])\n",
    "        \n",
    "        print 'Calculating new known locations', time.time() - start_time\n",
    "        # Single threaded implementation\n",
    "        for dst in dst_locations:  \n",
    "            locations = dst_locations[dst]\n",
    "            if len(locations) > 3:\n",
    "                (median_location, dispersion) = median_point(locations)\n",
    "                if dispersion < gamma:\n",
    "                    known_locations[dst] = median_location\n",
    "        \n",
    "        # Multi-Threaded but slower implementation\n",
    "#         p = Pool(8)\n",
    "#         locations_to_calculate = []\n",
    "#         for dst in dst_locations:\n",
    "#             locations = dst_locations[dst]\n",
    "#             if len(locations) > 3:\n",
    "#                 locations_to_calculate.append((dst, locations))\n",
    "#             resulting_locations = p.map(get_median_with_threshold, locations_to_calculate)\n",
    "#             known_locations = {}\n",
    "#             for (usr_id, location) in resulting_locations:\n",
    "#                 if location is not None:\n",
    "#                     known_locations[usr_id] = location\n",
    "        \n",
    "        print i, len(known_locations), time.time() - start_time\n",
    "    \n",
    "    errors = []\n",
    "    for usr_id, location in test_locations:\n",
    "        if usr_id in known_locations:\n",
    "            ll_1 = known_locations[usr_id]\n",
    "            ll_2 = test_locations[usr_id]\n",
    "            errors.append(haversine(ll_1[1], ll_1[0], ll_2[1], ll_2[0]))\n",
    "    print len(errors), np.median(errors), np.mean(errors) "
   ]
  },
  {
   "cell_type": "code",
   "execution_count": null,
   "metadata": {
    "collapsed": false
   },
   "outputs": [],
   "source": [
    "#local_edges\n",
    "#known_locations\n",
    "#test_locations\n",
    "perform_slp(local_edge_list, known_locations, test_locations, 100)"
   ]
  },
  {
   "cell_type": "code",
   "execution_count": 20,
   "metadata": {
    "collapsed": false
   },
   "outputs": [
    {
     "data": {
      "text/plain": [
       "190173"
      ]
     },
     "execution_count": 20,
     "metadata": {},
     "output_type": "execute_result"
    }
   ],
   "source": [
    "len(known_locations)"
   ]
  },
  {
   "cell_type": "code",
   "execution_count": null,
   "metadata": {
    "collapsed": true
   },
   "outputs": [],
   "source": []
  }
 ],
 "metadata": {
  "kernelspec": {
   "display_name": "Python 2",
   "language": "python",
   "name": "python2"
  },
  "language_info": {
   "codemirror_mode": {
    "name": "ipython",
    "version": 2
   },
   "file_extension": ".py",
   "mimetype": "text/x-python",
   "name": "python",
   "nbconvert_exporter": "python",
   "pygments_lexer": "ipython2",
   "version": "2.7.9"
  }
 },
 "nbformat": 4,
 "nbformat_minor": 0
}
